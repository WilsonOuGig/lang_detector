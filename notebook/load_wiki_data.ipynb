{
 "cells": [
  {
   "cell_type": "code",
   "execution_count": 1,
   "metadata": {
    "pycharm": {
     "name": "#%%\n"
    }
   },
   "outputs": [],
   "source": []
  },
  {
   "cell_type": "code",
   "execution_count": null,
   "outputs": [],
   "source": [
    "for d in datasets_list:\n",
    "    if \"wikimedia\" in d:\n",
    "        print(d)\n",
    "        break"
   ],
   "metadata": {
    "collapsed": false,
    "pycharm": {
     "name": "#%%\n"
    }
   }
  },
  {
   "cell_type": "code",
   "execution_count": null,
   "outputs": [],
   "source": [
    "import yaml\n",
    "\n",
    "with open(\"../data/huggingface-data-README.yml\", \"r\") as stream:\n",
    "    try:\n",
    "        dataset_readme = yaml.safe_load(stream)\n",
    "    except yaml.YAMLError as exc:\n",
    "        print(exc)\n"
   ],
   "metadata": {
    "collapsed": false,
    "pycharm": {
     "name": "#%%\n"
    }
   }
  },
  {
   "cell_type": "code",
   "execution_count": null,
   "outputs": [],
   "source": [
    "downloads= set(['en', 'fr'])\n",
    "configs = dataset_readme['configs']\n",
    "conf_list = []\n",
    "for conf in configs:\n",
    "    if conf['config_name'].split('.')[-1] in downloads:\n",
    "        print(conf['config_name'])\n",
    "        cnf = conf['config_name']\n",
    "        conf_list.append(cnf)"
   ],
   "metadata": {
    "collapsed": false,
    "pycharm": {
     "name": "#%%\n"
    }
   }
  },
  {
   "cell_type": "code",
   "execution_count": null,
   "outputs": [],
   "source": [
    "import re\n",
    "\n",
    "def get_parquet_file_list(text:str):\n",
    "    pattern = r'download href=\"/datasets/wikimedia/wikipedia/resolve/main/.*\\.parquet\\?download=true\">\\d* MB'\n",
    "    substrings = re.findall(pattern, text)\n",
    "    return substrings\n"
   ],
   "metadata": {
    "collapsed": false,
    "pycharm": {
     "name": "#%%\n"
    }
   }
  },
  {
   "cell_type": "code",
   "execution_count": null,
   "outputs": [],
   "source": [
    "import requests\n",
    "\n",
    "def get_one_parqet_file_per_conf(cnf):\n",
    "    base_url = 'https://huggingface.co/datasets/wikimedia/wikipedia/tree/main/'\n",
    "    url = base_url  + cnf\n",
    "    resp = requests.get(url)\n",
    "    text = resp.content.decode('utf-8')\n",
    "    parquet_files = get_parquet_file_list(text)\n",
    "    \n",
    "    urls_parquet = []\n",
    "    for f in parquet_files:\n",
    "        f = f.replace('download href=\"', '').replace(\"MB\", '')\n",
    "    \n",
    "        url_p = f.split('\">')[0]\n",
    "        size_p = f.split('\">')[-1]\n",
    "        urls_parquet.append([url_p.strip(), size_p.strip()])\n",
    "    \n",
    "    \n",
    "    urls_parquet = sorted(urls_parquet, key=lambda u: u[-1])\n",
    "\n",
    "    min_size = 150 # MB, try to get the small file, but greater than this if possible\n",
    "    if len(urls_parquet) ==1: \n",
    "        return urls_parquet[0]\n",
    "    else:\n",
    "        result = None\n",
    "        for u in urls_parquet:\n",
    "            result = u\n",
    "            if int(result[-1]) > min_size:\n",
    "                return result\n",
    "        return result\n",
    "            \n",
    "    "
   ],
   "metadata": {
    "collapsed": false,
    "pycharm": {
     "name": "#%%\n"
    }
   }
  },
  {
   "cell_type": "code",
   "execution_count": null,
   "outputs": [],
   "source": [
    "from datasets import load_dataset\n",
    "\n",
    "# ds = load_dataset(\"wikimedia/wikipedia\", \"20231101.en\", data_files = ['train-00000-of-00041.parquet'])"
   ],
   "metadata": {
    "collapsed": false,
    "pycharm": {
     "name": "#%%\n"
    }
   }
  },
  {
   "cell_type": "code",
   "execution_count": null,
   "outputs": [],
   "source": [
    "\n",
    "parquet_file_paths = []\n",
    "for conf in conf_list:\n",
    "     parquet_file_paths.append((get_one_parqet_file_per_conf(conf), conf.split('.')[-1]))\n",
    "\n",
    "parquet_file_paths  "
   ],
   "metadata": {
    "collapsed": false,
    "pycharm": {
     "name": "#%%\n"
    }
   }
  },
  {
   "cell_type": "code",
   "execution_count": null,
   "outputs": [],
   "source": [
    " "
   ],
   "metadata": {
    "collapsed": false,
    "pycharm": {
     "name": "#%%\n"
    }
   }
  },
  {
   "cell_type": "code",
   "execution_count": null,
   "outputs": [],
   "source": [
    "import os\n",
    "\n",
    "def download_file(path, local_filename):\n",
    "    base_url = \"https://huggingface.co\"\n",
    "    url = base_url + path\n",
    "    response = requests.get(url, stream=True)\n",
    "    \n",
    "    with open(local_filename, 'wb') as file:\n",
    "        for chunk in response.iter_content(chunk_size=128):\n",
    "            file.write(chunk)\n",
    "\n",
    "\n",
    "for pths in parquet_file_paths:\n",
    "    file_path  = pths[0][0]\n",
    "    lang = pths[1]\n",
    "    \n",
    "    # print(file_path)\n",
    "    file_save_as = '../data/parquet/' + lang+\".\"+file_path.split('?')[0].split('/')[-1]\n",
    "    \n",
    "    # print(file_save_as)\n",
    "\n",
    "    if not os.path.exists(file_save_as):\n",
    "        print(f'downloading {file_path} to {file_save_as}')\n",
    "        download_file(file_path, file_save_as)\n",
    "    else: \n",
    "        print(f'{file_save_as} is existing.')\n",
    "\n"
   ],
   "metadata": {
    "collapsed": false,
    "pycharm": {
     "name": "#%%\n"
    }
   }
  },
  {
   "cell_type": "code",
   "execution_count": null,
   "outputs": [],
   "source": [
    "parquet_file_paths"
   ],
   "metadata": {
    "collapsed": false,
    "pycharm": {
     "name": "#%%\n"
    }
   }
  },
  {
   "cell_type": "code",
   "execution_count": null,
   "outputs": [],
   "source": [
    "import pandas as pd\n",
    "df = pd.read_parquet(file_save_as, engine='fastparquet')\n",
    "text = \" \".join(df[\"text\"].values.tolist())\n",
    "\n",
    "print(text[:100])\n"
   ],
   "metadata": {
    "collapsed": false,
    "pycharm": {
     "name": "#%%\n"
    }
   }
  },
  {
   "cell_type": "code",
   "execution_count": null,
   "outputs": [],
   "source": [],
   "metadata": {
    "collapsed": false,
    "pycharm": {
     "name": "#%%\n"
    }
   }
  },
  {
   "cell_type": "code",
   "execution_count": null,
   "outputs": [],
   "source": [
    "len(text)"
   ],
   "metadata": {
    "collapsed": false,
    "pycharm": {
     "name": "#%%\n"
    }
   }
  },
  {
   "cell_type": "code",
   "execution_count": null,
   "outputs": [],
   "source": [],
   "metadata": {
    "collapsed": false,
    "pycharm": {
     "name": "#%%\n"
    }
   }
  },
  {
   "cell_type": "code",
   "execution_count": 14,
   "metadata": {
    "pycharm": {
     "name": "#%%\n"
    }
   },
   "outputs": [
    {
     "name": "stdout",
     "output_type": "stream",
     "text": [
      "wikimedia/wikipedia\n"
     ]
    }
   ],
   "source": [
    "for d in datasets_list:\n",
    "    if \"wikimedia\" in d:\n",
    "        print(d)\n",
    "        break"
   ]
  },
  {
   "cell_type": "code",
   "execution_count": 21,
   "metadata": {
    "pycharm": {
     "name": "#%%\n"
    }
   },
   "outputs": [],
   "source": [
    "import yaml\n",
    "\n",
    "with open(\"../data/huggingface-data-README.yml\", \"r\") as stream:\n",
    "    try:\n",
    "        dataset_readme = yaml.safe_load(stream)\n",
    "    except yaml.YAMLError as exc:\n",
    "        print(exc)\n"
   ]
  },
  {
   "cell_type": "code",
   "execution_count": 72,
   "metadata": {
    "pycharm": {
     "name": "#%%\n"
    }
   },
   "outputs": [
    {
     "name": "stdout",
     "output_type": "stream",
     "text": [
      "20231101.en\n",
      "20231101.fr\n"
     ]
    }
   ],
   "source": [
    "downloads= set(['en', 'fr'])\n",
    "configs = dataset_readme['configs']\n",
    "conf_list = []\n",
    "for conf in configs:\n",
    "    if conf['config_name'].split('.')[-1] in downloads:\n",
    "        print(conf['config_name'])\n",
    "        cnf = conf['config_name']\n",
    "        conf_list.append(cnf)"
   ]
  },
  {
   "cell_type": "code",
   "execution_count": 82,
   "metadata": {
    "pycharm": {
     "name": "#%%\n"
    }
   },
   "outputs": [],
   "source": [
    "import re\n",
    "\n",
    "def get_parquet_file_list(text:str):\n",
    "    pattern = r'download href=\"/datasets/wikimedia/wikipedia/resolve/main/.*\\.parquet\\?download=true\">\\d* MB'\n",
    "    substrings = re.findall(pattern, text)\n",
    "    return substrings\n"
   ]
  },
  {
   "cell_type": "code",
   "execution_count": 83,
   "metadata": {
    "pycharm": {
     "name": "#%%\n"
    }
   },
   "outputs": [],
   "source": [
    "import requests\n",
    "\n",
    "def get_one_parqet_file_per_conf(cnf):\n",
    "    base_url = 'https://huggingface.co/datasets/wikimedia/wikipedia/tree/main/'\n",
    "    url = base_url  + cnf\n",
    "    resp = requests.get(url)\n",
    "    text = resp.content.decode('utf-8')\n",
    "    parquet_files = get_parquet_file_list(text)\n",
    "    \n",
    "    urls_parquet = []\n",
    "    for f in parquet_files:\n",
    "        f = f.replace('download href=\"', '').replace(\"MB\", '')\n",
    "    \n",
    "        url_p = f.split('\">')[0]\n",
    "        size_p = f.split('\">')[-1]\n",
    "        urls_parquet.append([url_p.strip(), size_p.strip()])\n",
    "    \n",
    "    \n",
    "    urls_parquet = sorted(urls_parquet, key=lambda u: u[-1])\n",
    "\n",
    "    min_size = 150 # MB, try to get the small file, but greater than this if possible\n",
    "    if len(urls_parquet) ==1: \n",
    "        return urls_parquet[0]\n",
    "    else:\n",
    "        result = None\n",
    "        for u in urls_parquet:\n",
    "            result = u\n",
    "            if int(result[-1]) > min_size:\n",
    "                return result\n",
    "        return result\n",
    "            \n",
    "    "
   ]
  },
  {
   "cell_type": "code",
   "execution_count": 84,
   "metadata": {
    "pycharm": {
     "name": "#%%\n"
    }
   },
   "outputs": [],
   "source": [
    "from datasets import load_dataset\n",
    "\n",
    "# ds = load_dataset(\"wikimedia/wikipedia\", \"20231101.en\", data_files = ['train-00000-of-00041.parquet'])"
   ]
  },
  {
   "cell_type": "code",
   "execution_count": 87,
   "metadata": {
    "pycharm": {
     "name": "#%%\n"
    }
   },
   "outputs": [
    {
     "data": {
      "text/plain": [
       "[(['/datasets/wikimedia/wikipedia/resolve/main/20231101.en/train-00028-of-00041.parquet?download=true',\n",
       "   '188'],\n",
       "  'en'),\n",
       " (['/datasets/wikimedia/wikipedia/resolve/main/20231101.fr/train-00011-of-00017.parquet?download=true',\n",
       "   '169'],\n",
       "  'fr')]"
      ]
     },
     "execution_count": 87,
     "metadata": {},
     "output_type": "execute_result"
    }
   ],
   "source": [
    "\n",
    "parquet_file_paths = []\n",
    "for conf in conf_list:\n",
    "     parquet_file_paths.append((get_one_parqet_file_per_conf(conf), conf.split('.')[-1]))\n",
    "\n",
    "parquet_file_paths  "
   ]
  },
  {
   "cell_type": "code",
   "execution_count": null,
   "metadata": {
    "pycharm": {
     "name": "#%%\n"
    }
   },
   "outputs": [],
   "source": [
    " "
   ]
  },
  {
   "cell_type": "code",
   "execution_count": 96,
   "metadata": {
    "pycharm": {
     "name": "#%%\n"
    }
   },
   "outputs": [
    {
     "name": "stdout",
     "output_type": "stream",
     "text": [
      "../data/parquet/en.train-00028-of-00041.parquet is existing.\n",
      "../data/parquet/fr.train-00011-of-00017.parquet is existing.\n"
     ]
    }
   ],
   "source": [
    "import os\n",
    "\n",
    "def download_file(path, local_filename):\n",
    "    base_url = \"https://huggingface.co\"\n",
    "    url = base_url + path\n",
    "    response = requests.get(url, stream=True)\n",
    "    \n",
    "    with open(local_filename, 'wb') as file:\n",
    "        for chunk in response.iter_content(chunk_size=128):\n",
    "            file.write(chunk)\n",
    "\n",
    "\n",
    "for pths in parquet_file_paths:\n",
    "    file_path  = pths[0][0]\n",
    "    lang = pths[1]\n",
    "    \n",
    "    # print(file_path)\n",
    "    file_save_as = '../data/parquet/' + lang+\".\"+file_path.split('?')[0].split('/')[-1]\n",
    "    \n",
    "    # print(file_save_as)\n",
    "\n",
    "    if not os.path.exists(file_save_as):\n",
    "        print(f'downloading {file_path} to {file_save_as}')\n",
    "        download_file(file_path, file_save_as)\n",
    "    else: \n",
    "        print(f'{file_save_as} is existing.')\n",
    "\n"
   ]
  },
  {
   "cell_type": "code",
   "execution_count": 92,
   "metadata": {
    "pycharm": {
     "name": "#%%\n"
    }
   },
   "outputs": [
    {
     "data": {
      "text/plain": [
       "[(['/datasets/wikimedia/wikipedia/resolve/main/20231101.en/train-00028-of-00041.parquet?download=true',\n",
       "   '188'],\n",
       "  'en'),\n",
       " (['/datasets/wikimedia/wikipedia/resolve/main/20231101.fr/train-00011-of-00017.parquet?download=true',\n",
       "   '169'],\n",
       "  'fr')]"
      ]
     },
     "execution_count": 92,
     "metadata": {},
     "output_type": "execute_result"
    }
   ],
   "source": [
    "parquet_file_paths"
   ]
  },
  {
   "cell_type": "code",
   "execution_count": 98,
   "metadata": {
    "pycharm": {
     "name": "#%%\n"
    }
   },
   "outputs": [
    {
     "name": "stdout",
     "output_type": "stream",
     "text": [
      "L' aérodrome du nord-est de la Floride , anciennement aérodrome Saint-Augustine, est situé à  au nor\n"
     ]
    }
   ],
   "source": [
    "import pandas as pd\n",
    "df = pd.read_parquet(file_save_as, engine='fastparquet')\n",
    "text = \" \".join(df[\"text\"].values.tolist())\n",
    "\n",
    "print(text[:100])\n"
   ]
  },
  {
   "cell_type": "code",
   "execution_count": 99,
   "metadata": {
    "pycharm": {
     "name": "#%%\n"
    }
   },
   "outputs": [
    {
     "data": {
      "text/plain": [
       "323"
      ]
     },
     "execution_count": 99,
     "metadata": {},
     "output_type": "execute_result"
    }
   ],
   "source": []
  },
  {
   "cell_type": "code",
   "execution_count": 100,
   "metadata": {
    "pycharm": {
     "name": "#%%\n"
    }
   },
   "outputs": [
    {
     "data": {
      "text/plain": [
       "293876075"
      ]
     },
     "execution_count": 100,
     "metadata": {},
     "output_type": "execute_result"
    }
   ],
   "source": [
    "len(text)"
   ]
  },
  {
   "cell_type": "code",
   "execution_count": null,
   "metadata": {
    "pycharm": {
     "name": "#%%\n"
    }
   },
   "outputs": [],
   "source": []
  }
 ],
 "metadata": {
  "kernelspec": {
   "display_name": "Python 3 (ipykernel)",
   "language": "python",
   "name": "python3"
  },
  "language_info": {
   "codemirror_mode": {
    "name": "ipython",
    "version": 3
   },
   "file_extension": ".py",
   "mimetype": "text/x-python",
   "name": "python",
   "nbconvert_exporter": "python",
   "pygments_lexer": "ipython3",
   "version": "3.11.0"
  }
 },
 "nbformat": 4,
 "nbformat_minor": 4
}