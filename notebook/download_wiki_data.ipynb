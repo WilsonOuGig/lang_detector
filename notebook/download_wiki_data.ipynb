{
 "cells": [
  {
   "cell_type": "code",
   "execution_count": 6,
   "metadata": {
    "pycharm": {
     "name": "#%%\n"
    }
   },
   "outputs": [
    {
     "name": "stdout",
     "output_type": "stream",
     "text": [
      "20\n"
     ]
    }
   ],
   "source": [
    "\n",
    "download_language = {\"English\": \"en\",\n",
    "\"Spanish\": \"es\",\n",
    "\"French\": \"fr\",\n",
    "\"Italian\": \"it\",\n",
    "\"German\": \"de\",\n",
    "\"Portuguese\": \"pt\",\n",
    "\"Dutch\": \"nl\",\n",
    "\"Swedish\": \"sv\",\n",
    "\"Norwegian\": \"no\",\n",
    "\"Danish\": \"da\",\n",
    "\"Finnish\": \"fi\",\n",
    "\"Latin\": \"la\",\n",
    "\"Romanian\": \"ro\",\n",
    "\"Catalan\": \"ca\",\n",
    "\"Hungarian\": \"hu\",\n",
    "\"Polish\": \"pl\",\n",
    "\"Czech\": \"cs\",\n",
    "\"Slovak\": \"sk\",\n",
    "\"Slovenian\": \"sl\",\n",
    "\"Croatian\": \"hr\"}\n",
    "\n",
    "print(len(download_language))"
   ]
  },
  {
   "cell_type": "code",
   "execution_count": null,
   "metadata": {
    "collapsed": false,
    "jupyter": {
     "outputs_hidden": false
    },
    "pycharm": {
     "name": "#%%\n"
    }
   },
   "outputs": [],
   "source": [
    "# for d in datasets_list:\n",
    "#     if \"wikimedia\" in d:\n",
    "#         print(d)\n",
    "#         break"
   ]
  },
  {
   "cell_type": "code",
   "execution_count": 2,
   "metadata": {
    "collapsed": false,
    "jupyter": {
     "outputs_hidden": false
    },
    "pycharm": {
     "name": "#%%\n"
    }
   },
   "outputs": [],
   "source": [
    "import yaml\n",
    "\n",
    "with open(\"../data/huggingface-data-README.yml\", \"r\") as stream:\n",
    "    try:\n",
    "        dataset_readme = yaml.safe_load(stream)\n",
    "    except yaml.YAMLError as exc:\n",
    "        print(exc)\n"
   ]
  },
  {
   "cell_type": "code",
   "execution_count": 3,
   "metadata": {
    "collapsed": false,
    "jupyter": {
     "outputs_hidden": false
    },
    "pycharm": {
     "name": "#%%\n"
    }
   },
   "outputs": [],
   "source": [
    "# downloads= set(['en', 'fr'])\n",
    "downloads= set(download_language.values())\n",
    "\n",
    "configs = dataset_readme['configs']\n",
    "conf_list = []\n",
    "for conf in configs:\n",
    "    if conf['config_name'].split('.')[-1] in downloads:\n",
    "        cnf = conf['config_name']\n",
    "        conf_list.append(cnf)"
   ]
  },
  {
   "cell_type": "code",
   "execution_count": 5,
   "metadata": {},
   "outputs": [
    {
     "data": {
      "text/plain": [
       "20"
      ]
     },
     "execution_count": 5,
     "metadata": {},
     "output_type": "execute_result"
    }
   ],
   "source": [
    "len(conf_list)"
   ]
  },
  {
   "cell_type": "code",
   "execution_count": 8,
   "metadata": {
    "collapsed": false,
    "jupyter": {
     "outputs_hidden": false
    },
    "pycharm": {
     "name": "#%%\n"
    }
   },
   "outputs": [],
   "source": [
    "import re\n",
    "\n",
    "def get_parquet_file_list(text:str):\n",
    "    pattern = r'download href=\"/datasets/wikimedia/wikipedia/resolve/main/.*\\.parquet\\?download=true\">\\d* MB'\n",
    "    substrings = re.findall(pattern, text)\n",
    "    return substrings\n"
   ]
  },
  {
   "cell_type": "code",
   "execution_count": 9,
   "metadata": {
    "collapsed": false,
    "jupyter": {
     "outputs_hidden": false
    },
    "pycharm": {
     "name": "#%%\n"
    }
   },
   "outputs": [],
   "source": [
    "import requests\n",
    "\n",
    "def get_one_parqet_file_per_conf(cnf):\n",
    "    base_url = 'https://huggingface.co/datasets/wikimedia/wikipedia/tree/main/'\n",
    "    url = base_url  + cnf\n",
    "    resp = requests.get(url)\n",
    "    text = resp.content.decode('utf-8')\n",
    "    parquet_files = get_parquet_file_list(text)\n",
    "    \n",
    "    urls_parquet = []\n",
    "    for f in parquet_files:\n",
    "        f = f.replace('download href=\"', '').replace(\"MB\", '')\n",
    "    \n",
    "        url_p = f.split('\">')[0]\n",
    "        size_p = f.split('\">')[-1]\n",
    "        urls_parquet.append([url_p.strip(), size_p.strip()])\n",
    "    \n",
    "    \n",
    "    urls_parquet = sorted(urls_parquet, key=lambda u: u[-1])\n",
    "\n",
    "    min_size = 150 # MB, try to get the small file, but greater than this if possible\n",
    "    if len(urls_parquet) ==1: \n",
    "        return urls_parquet[0]\n",
    "    else:\n",
    "        result = None\n",
    "        for u in urls_parquet:\n",
    "            result = u\n",
    "            if int(result[-1]) > min_size:\n",
    "                return result\n",
    "        return result\n",
    "            \n",
    "    "
   ]
  },
  {
   "cell_type": "code",
   "execution_count": null,
   "metadata": {
    "collapsed": false,
    "jupyter": {
     "outputs_hidden": false
    },
    "pycharm": {
     "name": "#%%\n"
    }
   },
   "outputs": [],
   "source": [
    " "
   ]
  },
  {
   "cell_type": "code",
   "execution_count": 10,
   "metadata": {
    "collapsed": false,
    "jupyter": {
     "outputs_hidden": false
    },
    "pycharm": {
     "name": "#%%\n"
    }
   },
   "outputs": [
    {
     "data": {
      "text/plain": [
       "[(['/datasets/wikimedia/wikipedia/resolve/main/20231101.ca/train-00001-of-00004.parquet?download=true',\n",
       "   '209'],\n",
       "  'ca'),\n",
       " (['/datasets/wikimedia/wikipedia/resolve/main/20231101.cs/train-00002-of-00004.parquet?download=true',\n",
       "   '195'],\n",
       "  'cs'),\n",
       " (['/datasets/wikimedia/wikipedia/resolve/main/20231101.da/train-00000-of-00002.parquet?download=true',\n",
       "   '203'],\n",
       "  'da'),\n",
       " (['/datasets/wikimedia/wikipedia/resolve/main/20231101.de/train-00014-of-00020.parquet?download=true',\n",
       "   '220'],\n",
       "  'de'),\n",
       " (['/datasets/wikimedia/wikipedia/resolve/main/20231101.en/train-00028-of-00041.parquet?download=true',\n",
       "   '188'],\n",
       "  'en'),\n",
       " (['/datasets/wikimedia/wikipedia/resolve/main/20231101.es/train-00010-of-00013.parquet?download=true',\n",
       "   '167'],\n",
       "  'es'),\n",
       " (['/datasets/wikimedia/wikipedia/resolve/main/20231101.fi/train-00002-of-00003.parquet?download=true',\n",
       "   '171'],\n",
       "  'fi'),\n",
       " (['/datasets/wikimedia/wikipedia/resolve/main/20231101.fr/train-00011-of-00017.parquet?download=true',\n",
       "   '169'],\n",
       "  'fr'),\n",
       " (['/datasets/wikimedia/wikipedia/resolve/main/20231101.hr/train-00000-of-00001.parquet?download=true',\n",
       "   '275'],\n",
       "  'hr'),\n",
       " (['/datasets/wikimedia/wikipedia/resolve/main/20231101.hu/train-00003-of-00004.parquet?download=true',\n",
       "   '216'],\n",
       "  'hu'),\n",
       " (['/datasets/wikimedia/wikipedia/resolve/main/20231101.it/train-00007-of-00010.parquet?download=true',\n",
       "   '218'],\n",
       "  'it'),\n",
       " (None, 'la'),\n",
       " (['/datasets/wikimedia/wikipedia/resolve/main/20231101.nl/train-00001-of-00006.parquet?download=true',\n",
       "   '304'],\n",
       "  'nl'),\n",
       " (['/datasets/wikimedia/wikipedia/resolve/main/20231101.no/train-00001-of-00003.parquet?download=true',\n",
       "   '175'],\n",
       "  'no'),\n",
       " (['/datasets/wikimedia/wikipedia/resolve/main/20231101.pl/train-00005-of-00006.parquet?download=true',\n",
       "   '231'],\n",
       "  'pl'),\n",
       " (['/datasets/wikimedia/wikipedia/resolve/main/20231101.pt/train-00002-of-00006.parquet?download=true',\n",
       "   '203'],\n",
       "  'pt'),\n",
       " (['/datasets/wikimedia/wikipedia/resolve/main/20231101.ro/train-00001-of-00002.parquet?download=true',\n",
       "   '195'],\n",
       "  'ro'),\n",
       " (['/datasets/wikimedia/wikipedia/resolve/main/20231101.sk/train-00000-of-00001.parquet?download=true',\n",
       "   '240'],\n",
       "  'sk'),\n",
       " (['/datasets/wikimedia/wikipedia/resolve/main/20231101.sl/train-00000-of-00001.parquet?download=true',\n",
       "   '267'],\n",
       "  'sl'),\n",
       " (['/datasets/wikimedia/wikipedia/resolve/main/20231101.sv/train-00004-of-00005.parquet?download=true',\n",
       "   '198'],\n",
       "  'sv')]"
      ]
     },
     "execution_count": 10,
     "metadata": {},
     "output_type": "execute_result"
    }
   ],
   "source": [
    "\n",
    "parquet_file_paths = []\n",
    "for conf in conf_list:\n",
    "     parquet_file_paths.append((get_one_parqet_file_per_conf(conf), conf.split('.')[-1]))\n",
    "\n",
    "parquet_file_paths  "
   ]
  },
  {
   "cell_type": "code",
   "execution_count": null,
   "metadata": {
    "collapsed": false,
    "jupyter": {
     "outputs_hidden": false
    },
    "pycharm": {
     "name": "#%%\n"
    }
   },
   "outputs": [],
   "source": [
    " "
   ]
  },
  {
   "cell_type": "code",
   "execution_count": 12,
   "metadata": {
    "collapsed": false,
    "jupyter": {
     "outputs_hidden": false
    },
    "pycharm": {
     "name": "#%%\n"
    }
   },
   "outputs": [
    {
     "name": "stdout",
     "output_type": "stream",
     "text": [
      "../data/parquet/ca.train-00001-of-00004.parquet is existing.\n",
      "../data/parquet/cs.train-00002-of-00004.parquet is existing.\n",
      "../data/parquet/da.train-00000-of-00002.parquet is existing.\n",
      "../data/parquet/de.train-00014-of-00020.parquet is existing.\n",
      "../data/parquet/en.train-00028-of-00041.parquet is existing.\n",
      "../data/parquet/es.train-00010-of-00013.parquet is existing.\n",
      "../data/parquet/fi.train-00002-of-00003.parquet is existing.\n",
      "../data/parquet/fr.train-00011-of-00017.parquet is existing.\n",
      "../data/parquet/hr.train-00000-of-00001.parquet is existing.\n",
      "../data/parquet/hu.train-00003-of-00004.parquet is existing.\n",
      "../data/parquet/it.train-00007-of-00010.parquet is existing.\n",
      "downloading /datasets/wikimedia/wikipedia/resolve/main/20231101.nl/train-00001-of-00006.parquet?download=true to ../data/parquet/nl.train-00001-of-00006.parquet\n",
      "downloading /datasets/wikimedia/wikipedia/resolve/main/20231101.no/train-00001-of-00003.parquet?download=true to ../data/parquet/no.train-00001-of-00003.parquet\n",
      "downloading /datasets/wikimedia/wikipedia/resolve/main/20231101.pl/train-00005-of-00006.parquet?download=true to ../data/parquet/pl.train-00005-of-00006.parquet\n",
      "downloading /datasets/wikimedia/wikipedia/resolve/main/20231101.pt/train-00002-of-00006.parquet?download=true to ../data/parquet/pt.train-00002-of-00006.parquet\n",
      "downloading /datasets/wikimedia/wikipedia/resolve/main/20231101.ro/train-00001-of-00002.parquet?download=true to ../data/parquet/ro.train-00001-of-00002.parquet\n",
      "downloading /datasets/wikimedia/wikipedia/resolve/main/20231101.sk/train-00000-of-00001.parquet?download=true to ../data/parquet/sk.train-00000-of-00001.parquet\n",
      "downloading /datasets/wikimedia/wikipedia/resolve/main/20231101.sl/train-00000-of-00001.parquet?download=true to ../data/parquet/sl.train-00000-of-00001.parquet\n",
      "downloading /datasets/wikimedia/wikipedia/resolve/main/20231101.sv/train-00004-of-00005.parquet?download=true to ../data/parquet/sv.train-00004-of-00005.parquet\n"
     ]
    }
   ],
   "source": [
    "import os\n",
    "\n",
    "def download_file(path, local_filename):\n",
    "    base_url = \"https://huggingface.co\"\n",
    "    url = base_url + path\n",
    "    response = requests.get(url, stream=True)\n",
    "    \n",
    "    with open(local_filename, 'wb') as file:\n",
    "        for chunk in response.iter_content(chunk_size=128):\n",
    "            file.write(chunk)\n",
    "\n",
    "\n",
    "for pths in parquet_file_paths:\n",
    "    if pths[0] is None:\n",
    "        continue\n",
    "\n",
    "    \n",
    "    file_path  = pths[0][0]\n",
    "    lang = pths[1]\n",
    "    \n",
    "    # print(file_path)\n",
    "    file_save_as = '../data/parquet/' + lang+\".\"+file_path.split('?')[0].split('/')[-1]\n",
    "    \n",
    "    # print(file_save_as)\n",
    "\n",
    "    if not os.path.exists(file_save_as):\n",
    "        print(f'downloading {file_path} to {file_save_as}')\n",
    "        download_file(file_path, file_save_as)\n",
    "    else: \n",
    "        print(f'{file_save_as} is existing.')\n",
    "\n"
   ]
  },
  {
   "cell_type": "code",
   "execution_count": null,
   "metadata": {},
   "outputs": [],
   "source": []
  },
  {
   "cell_type": "code",
   "execution_count": null,
   "metadata": {},
   "outputs": [],
   "source": []
  },
  {
   "cell_type": "code",
   "execution_count": null,
   "metadata": {},
   "outputs": [],
   "source": []
  },
  {
   "cell_type": "code",
   "execution_count": null,
   "metadata": {},
   "outputs": [],
   "source": []
  },
  {
   "cell_type": "code",
   "execution_count": null,
   "metadata": {},
   "outputs": [],
   "source": []
  },
  {
   "cell_type": "code",
   "execution_count": null,
   "metadata": {},
   "outputs": [],
   "source": []
  },
  {
   "cell_type": "code",
   "execution_count": null,
   "metadata": {
    "pycharm": {
     "name": "#%%\n"
    }
   },
   "outputs": [],
   "source": []
  }
 ],
 "metadata": {
  "kernelspec": {
   "display_name": "Python 3 (ipykernel)",
   "language": "python",
   "name": "python3"
  },
  "language_info": {
   "codemirror_mode": {
    "name": "ipython",
    "version": 3
   },
   "file_extension": ".py",
   "mimetype": "text/x-python",
   "name": "python",
   "nbconvert_exporter": "python",
   "pygments_lexer": "ipython3",
   "version": "3.11.0"
  }
 },
 "nbformat": 4,
 "nbformat_minor": 4
}
